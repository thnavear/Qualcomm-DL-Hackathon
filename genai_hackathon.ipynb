{
  "nbformat": 4,
  "nbformat_minor": 0,
  "metadata": {
    "colab": {
      "provenance": [],
      "authorship_tag": "ABX9TyPg1DqT6qGpgt+8dOYh20h9",
      "include_colab_link": true
    },
    "kernelspec": {
      "name": "python3",
      "display_name": "Python 3"
    },
    "language_info": {
      "name": "python"
    }
  },
  "cells": [
    {
      "cell_type": "markdown",
      "metadata": {
        "id": "view-in-github",
        "colab_type": "text"
      },
      "source": [
        "<a href=\"https://colab.research.google.com/github/thnavear/Qualcomm-DL-Hackathon/blob/master/genai_hackathon.ipynb\" target=\"_parent\"><img src=\"https://colab.research.google.com/assets/colab-badge.svg\" alt=\"Open In Colab\"/></a>"
      ]
    },
    {
      "cell_type": "code",
      "source": [
        "!pip install groq"
      ],
      "metadata": {
        "colab": {
          "base_uri": "https://localhost:8080/"
        },
        "id": "QK1LN432S6cf",
        "outputId": "533856bf-81f1-4c10-a188-1139fc1fb913"
      },
      "execution_count": 1,
      "outputs": [
        {
          "output_type": "stream",
          "name": "stdout",
          "text": [
            "Collecting groq\n",
            "  Downloading groq-0.15.0-py3-none-any.whl.metadata (14 kB)\n",
            "Requirement already satisfied: anyio<5,>=3.5.0 in /usr/local/lib/python3.11/dist-packages (from groq) (3.7.1)\n",
            "Requirement already satisfied: distro<2,>=1.7.0 in /usr/local/lib/python3.11/dist-packages (from groq) (1.9.0)\n",
            "Requirement already satisfied: httpx<1,>=0.23.0 in /usr/local/lib/python3.11/dist-packages (from groq) (0.28.1)\n",
            "Requirement already satisfied: pydantic<3,>=1.9.0 in /usr/local/lib/python3.11/dist-packages (from groq) (2.10.5)\n",
            "Requirement already satisfied: sniffio in /usr/local/lib/python3.11/dist-packages (from groq) (1.3.1)\n",
            "Requirement already satisfied: typing-extensions<5,>=4.10 in /usr/local/lib/python3.11/dist-packages (from groq) (4.12.2)\n",
            "Requirement already satisfied: idna>=2.8 in /usr/local/lib/python3.11/dist-packages (from anyio<5,>=3.5.0->groq) (3.10)\n",
            "Requirement already satisfied: certifi in /usr/local/lib/python3.11/dist-packages (from httpx<1,>=0.23.0->groq) (2024.12.14)\n",
            "Requirement already satisfied: httpcore==1.* in /usr/local/lib/python3.11/dist-packages (from httpx<1,>=0.23.0->groq) (1.0.7)\n",
            "Requirement already satisfied: h11<0.15,>=0.13 in /usr/local/lib/python3.11/dist-packages (from httpcore==1.*->httpx<1,>=0.23.0->groq) (0.14.0)\n",
            "Requirement already satisfied: annotated-types>=0.6.0 in /usr/local/lib/python3.11/dist-packages (from pydantic<3,>=1.9.0->groq) (0.7.0)\n",
            "Requirement already satisfied: pydantic-core==2.27.2 in /usr/local/lib/python3.11/dist-packages (from pydantic<3,>=1.9.0->groq) (2.27.2)\n",
            "Downloading groq-0.15.0-py3-none-any.whl (109 kB)\n",
            "\u001b[2K   \u001b[90m━━━━━━━━━━━━━━━━━━━━━━━━━━━━━━━━━━━━━━━━\u001b[0m \u001b[32m109.6/109.6 kB\u001b[0m \u001b[31m3.3 MB/s\u001b[0m eta \u001b[36m0:00:00\u001b[0m\n",
            "\u001b[?25hInstalling collected packages: groq\n",
            "Successfully installed groq-0.15.0\n"
          ]
        }
      ]
    },
    {
      "cell_type": "code",
      "source": [
        "!git clone https://github.com/thnavear/Qualcomm-DL-Hackathon.git"
      ],
      "metadata": {
        "id": "5aD-NVL_TbwU"
      },
      "execution_count": null,
      "outputs": []
    },
    {
      "cell_type": "code",
      "execution_count": 2,
      "metadata": {
        "colab": {
          "base_uri": "https://localhost:8080/"
        },
        "id": "5T4-PKTVQh4_",
        "outputId": "9a4d3751-8841-475b-b1ee-5e7133af68c8"
      },
      "outputs": [
        {
          "output_type": "stream",
          "name": "stdout",
          "text": [
            "Hello. How can I assist you today?"
          ]
        }
      ],
      "source": [
        "from groq import Groq\n",
        "\n",
        "client = Groq(api_key=\"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\")\n",
        "completion = client.chat.completions.create(\n",
        "    model=\"llama-3.3-70b-versatile\",\n",
        "    messages=[{\"role\": \"user\", \"content\": \"Hello\"}], # Added a user message\n",
        "    temperature=1,\n",
        "    max_completion_tokens=1024,\n",
        "    top_p=1,\n",
        "    stream=True,\n",
        "    stop=None,\n",
        ")\n",
        "\n",
        "for chunk in completion:\n",
        "    print(chunk.choices[0].delta.content or \"\", end=\"\")\n",
        "\n",
        "\n",
        "#os.environ[\"TOGETHER_API_KEY\"]=\"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\""
      ]
    },
    {
      "cell_type": "code",
      "source": [
        "# prompt: 1.code to import \"/content/test.csv\"\n",
        "# 2.use model \"llama-3.3-70b-versatile\" from groq to classify emails from test.csv (read columns \"ticket_subject\" and \"ticket_body\" from each row in \"/content/test.csv\" into the following attributes\n",
        "# Department: The responsible department, such as Technical Support, Customer Service, Billing and Payments, Product Support, IT Support, Returns and Exchanges, Sales and Pre-Sales, Human Resources, Service Outages and Maintenance, or General Inquiry\n",
        "# Priority: The urgency level such as low, medium, or high.\n",
        "# Language: The language code for the email's language, such as en (English), de (German) etc. You can access the list of language codes from the following link.\n",
        "# Type: The nature of the request, categorized as Incident, Request, Problem, or Change\n",
        "\n",
        "import pandas as pd\n",
        "from groq import Groq\n",
        "\n",
        "# Assuming you've already installed the groq library and cloned the repo\n",
        "# !pip install groq\n",
        "# !git clone https://github.com/thnavear/Qualcomm-DL-Hackathon.git\n",
        "\n",
        "client = Groq(api_key=\"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\")\n",
        "\n",
        "try:\n",
        "  df = pd.read_csv(\"/content/test1.csv\")\n",
        "except FileNotFoundError:\n",
        "  print(\"Error: test.csv not found. Please upload the file to /content/\")\n",
        "  exit()\n",
        "\n",
        "results = []\n",
        "\n",
        "for index, row in df.iterrows():\n",
        "    subject = row['ticket_subject']\n",
        "    body = row['ticket_body']\n",
        "\n",
        "    prompt = f\"\"\"Classify the following email into the given attributes.\n",
        "\n",
        "Subject: {subject}\n",
        "Body: {body}\n",
        "\n",
        "Attributes:\n",
        "Department: The responsible department (Technical Support, Customer Service, Billing and Payments, Product Support, IT Support, Returns and Exchanges, Sales and Pre-Sales, Human Resources, Service Outages and Maintenance, or General Inquiry)\n",
        "Priority: The urgency level (low, medium, or high).\n",
        "Language: The language code (en, de, etc.).\n",
        "Type: The nature of the request (Incident, Request, Problem, or Change)\n",
        "\n",
        "Return your response as a JSON object with the keys \"Department\", \"Priority\", \"Language\", and \"Type\".\"\"\"\n",
        "\n",
        "\n",
        "    completion = client.chat.completions.create(\n",
        "        model=\"llama-3.3-70b-versatile\",\n",
        "        messages=[{\"role\": \"user\", \"content\": prompt}],\n",
        "        temperature=0.2,  # Lower temperature for more focused classifications\n",
        "        max_completion_tokens=200,\n",
        "        top_p=1,\n",
        "        stream=False  # Set stream to False for better structured responses\n",
        "    )\n",
        "\n",
        "    response = completion.choices[0].message.content\n",
        "    results.append(response)  # Append the classification result\n",
        "\n",
        "# Now 'results' contains the JSON classification results for each email\n",
        "\n",
        "# Example of printing the classifications (you might want to save them to a file)\n",
        "for i, result in enumerate(results):\n",
        "  print(f\"Email {i+1} classification:\\n{result}\\n\")\n",
        "\n",
        "# Process results as needed (e.g., convert JSON strings to Python dicts, save to CSV)"
      ],
      "metadata": {
        "id": "39chZHNdTixr",
        "outputId": "bbac4086-6fc2-4b0a-c0bc-6f4ca8fa1167",
        "colab": {
          "base_uri": "https://localhost:8080/"
        }
      },
      "execution_count": 4,
      "outputs": [
        {
          "output_type": "stream",
          "name": "stdout",
          "text": [
            "Email 1 classification:\n",
            "```json\n",
            "{\n",
            "  \"Department\": \"IT Support\",\n",
            "  \"Priority\": \"high\",\n",
            "  \"Language\": \"it\",\n",
            "  \"Type\": \"Incident\"\n",
            "}\n",
            "```\n",
            "\n",
            "Email 2 classification:\n",
            "```json\n",
            "{\n",
            "  \"Department\": \"Billing and Payments\",\n",
            "  \"Priority\": \"medium\",\n",
            "  \"Language\": \"de\",\n",
            "  \"Type\": \"Incident\"\n",
            "}\n",
            "```\n",
            "\n",
            "Email 3 classification:\n",
            "```json\n",
            "{\n",
            "  \"Department\": \"Technical Support\",\n",
            "  \"Priority\": \"medium\",\n",
            "  \"Language\": \"fr\",\n",
            "  \"Type\": \"Problem\"\n",
            "}\n",
            "```\n",
            "\n",
            "Email 4 classification:\n",
            "```json\n",
            "{\n",
            "  \"Department\": \"Billing and Payments\",\n",
            "  \"Priority\": \"medium\",\n",
            "  \"Language\": \"it\",\n",
            "  \"Type\": \"Request\"\n",
            "}\n",
            "```\n",
            "\n",
            "Email 5 classification:\n",
            "```json\n",
            "{\n",
            "  \"Department\": \"Technical Support\",\n",
            "  \"Priority\": \"high\",\n",
            "  \"Language\": \"it\",\n",
            "  \"Type\": \"Problem\"\n",
            "}\n",
            "```\n",
            "\n",
            "Email 6 classification:\n",
            "```json\n",
            "{\n",
            "  \"Department\": \"Product Support\",\n",
            "  \"Priority\": \"medium\",\n",
            "  \"Language\": \"it\",\n",
            "  \"Type\": \"Incident\"\n",
            "}\n",
            "```\n",
            "\n",
            "Email 7 classification:\n",
            "```json\n",
            "{\n",
            "  \"Department\": \"IT Support\",\n",
            "  \"Priority\": \"high\",\n",
            "  \"Language\": \"it\",\n",
            "  \"Type\": \"Incident\"\n",
            "}\n",
            "```\n",
            "\n",
            "Email 8 classification:\n",
            "Here's the classification of the email:\n",
            "\n",
            "```json\n",
            "{\n",
            "  \"Department\": \"IT Support\",\n",
            "  \"Priority\": \"high\",\n",
            "  \"Language\": \"pt\",\n",
            "  \"Type\": \"Incident\"\n",
            "}\n",
            "```\n",
            "\n",
            "Explanation:\n",
            "- Department: The email is related to a technical issue with the installation of Windows 11 Pro, which falls under the IT Support department.\n",
            "- Priority: The subject line starts with \"Urgente\", which is Portuguese for \"Urgent\", indicating a high level of urgency.\n",
            "- Language: The email is written in Portuguese, so the language code is \"pt\".\n",
            "- Type: The email reports a specific incident (a failure during installation) and requests help to resolve it, which is an incident type of request.\n",
            "\n",
            "Email 9 classification:\n",
            "```json\n",
            "{\n",
            "  \"Department\": \"IT Support\",\n",
            "  \"Priority\": \"medium\",\n",
            "  \"Language\": \"es\",\n",
            "  \"Type\": \"Request\"\n",
            "}\n",
            "```\n",
            "\n",
            "Email 10 classification:\n",
            "```json\n",
            "{\n",
            "  \"Department\": \"IT Support\",\n",
            "  \"Priority\": \"medium\",\n",
            "  \"Language\": \"it\",\n",
            "  \"Type\": \"Problem\"\n",
            "}\n",
            "```\n",
            "\n"
          ]
        }
      ]
    }
  ]
}