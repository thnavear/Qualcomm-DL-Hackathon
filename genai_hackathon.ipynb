{
  "nbformat": 4,
  "nbformat_minor": 0,
  "metadata": {
    "colab": {
      "provenance": [],
      "authorship_tag": "ABX9TyOozWrpGmuJjms3fhc9TKRY",
      "include_colab_link": true
    },
    "kernelspec": {
      "name": "python3",
      "display_name": "Python 3"
    },
    "language_info": {
      "name": "python"
    }
  },
  "cells": [
    {
      "cell_type": "markdown",
      "metadata": {
        "id": "view-in-github",
        "colab_type": "text"
      },
      "source": [
        "<a href=\"https://colab.research.google.com/github/thnavear/Qualcomm-DL-Hackathon/blob/master/genai_hackathon.ipynb\" target=\"_parent\"><img src=\"https://colab.research.google.com/assets/colab-badge.svg\" alt=\"Open In Colab\"/></a>"
      ]
    },
    {
      "cell_type": "code",
      "source": [
        "!pip install groq"
      ],
      "metadata": {
        "colab": {
          "base_uri": "https://localhost:8080/"
        },
        "id": "QK1LN432S6cf",
        "outputId": "1a2245fc-30e9-4ad3-a7d2-560f05b8af6f"
      },
      "execution_count": 2,
      "outputs": [
        {
          "output_type": "stream",
          "name": "stdout",
          "text": [
            "Collecting groq\n",
            "  Downloading groq-0.15.0-py3-none-any.whl.metadata (14 kB)\n",
            "Requirement already satisfied: anyio<5,>=3.5.0 in /usr/local/lib/python3.11/dist-packages (from groq) (3.7.1)\n",
            "Requirement already satisfied: distro<2,>=1.7.0 in /usr/local/lib/python3.11/dist-packages (from groq) (1.9.0)\n",
            "Requirement already satisfied: httpx<1,>=0.23.0 in /usr/local/lib/python3.11/dist-packages (from groq) (0.28.1)\n",
            "Requirement already satisfied: pydantic<3,>=1.9.0 in /usr/local/lib/python3.11/dist-packages (from groq) (2.10.5)\n",
            "Requirement already satisfied: sniffio in /usr/local/lib/python3.11/dist-packages (from groq) (1.3.1)\n",
            "Requirement already satisfied: typing-extensions<5,>=4.10 in /usr/local/lib/python3.11/dist-packages (from groq) (4.12.2)\n",
            "Requirement already satisfied: idna>=2.8 in /usr/local/lib/python3.11/dist-packages (from anyio<5,>=3.5.0->groq) (3.10)\n",
            "Requirement already satisfied: certifi in /usr/local/lib/python3.11/dist-packages (from httpx<1,>=0.23.0->groq) (2024.12.14)\n",
            "Requirement already satisfied: httpcore==1.* in /usr/local/lib/python3.11/dist-packages (from httpx<1,>=0.23.0->groq) (1.0.7)\n",
            "Requirement already satisfied: h11<0.15,>=0.13 in /usr/local/lib/python3.11/dist-packages (from httpcore==1.*->httpx<1,>=0.23.0->groq) (0.14.0)\n",
            "Requirement already satisfied: annotated-types>=0.6.0 in /usr/local/lib/python3.11/dist-packages (from pydantic<3,>=1.9.0->groq) (0.7.0)\n",
            "Requirement already satisfied: pydantic-core==2.27.2 in /usr/local/lib/python3.11/dist-packages (from pydantic<3,>=1.9.0->groq) (2.27.2)\n",
            "Downloading groq-0.15.0-py3-none-any.whl (109 kB)\n",
            "\u001b[?25l   \u001b[90m━━━━━━━━━━━━━━━━━━━━━━━━━━━━━━━━━━━━━━━━\u001b[0m \u001b[32m0.0/109.6 kB\u001b[0m \u001b[31m?\u001b[0m eta \u001b[36m-:--:--\u001b[0m\r\u001b[2K   \u001b[90m━━━━━━━━━━━━━━━━━━━━━━━━━━━━━━━━━━━━━━━━\u001b[0m \u001b[32m109.6/109.6 kB\u001b[0m \u001b[31m5.2 MB/s\u001b[0m eta \u001b[36m0:00:00\u001b[0m\n",
            "\u001b[?25hInstalling collected packages: groq\n",
            "Successfully installed groq-0.15.0\n"
          ]
        }
      ]
    },
    {
      "cell_type": "code",
      "source": [
        "!git clone https://github.com/thnavear/Qualcomm-DL-Hackathon.git"
      ],
      "metadata": {
        "id": "5aD-NVL_TbwU"
      },
      "execution_count": null,
      "outputs": []
    },
    {
      "cell_type": "code",
      "execution_count": 2,
      "metadata": {
        "colab": {
          "base_uri": "https://localhost:8080/"
        },
        "id": "5T4-PKTVQh4_",
        "outputId": "9a4d3751-8841-475b-b1ee-5e7133af68c8"
      },
      "outputs": [
        {
          "output_type": "stream",
          "name": "stdout",
          "text": [
            "Hello. How can I assist you today?"
          ]
        }
      ],
      "source": [
        "from groq import Groq\n",
        "\n",
        "client = Groq(api_key=\"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\")\n",
        "completion = client.chat.completions.create(\n",
        "    model=\"llama-3.3-70b-versatile\",\n",
        "    messages=[{\"role\": \"user\", \"content\": \"Hello\"}], # Added a user message\n",
        "    temperature=1,\n",
        "    max_completion_tokens=1024,\n",
        "    top_p=1,\n",
        "    stream=True,\n",
        "    stop=None,\n",
        ")\n",
        "\n",
        "for chunk in completion:\n",
        "    print(chunk.choices[0].delta.content or \"\", end=\"\")\n",
        "\n",
        "\n",
        "#os.environ[\"TOGETHER_API_KEY\"]=\"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\""
      ]
    },
    {
      "cell_type": "code",
      "source": [
        "# prompt: 1.code to import \"/content/test.csv\"\n",
        "# 2.use model \"llama-3.3-70b-versatile\" from groq to classify emails from test.csv (read columns \"ticket_ID\", \"ticket_subject\" and \"ticket_body\" from each row in \"/content/test.csv\" into the following attributes\n",
        "# Department: The responsible department, such as Technical Support, Customer Service, Billing and Payments, Product Support, IT Support, Returns and Exchanges, Sales and Pre-Sales, Human Resources, Service Outages and Maintenance, or General Inquiry\n",
        "# Priority: The urgency level such as low, medium, or high.\n",
        "# Language: The language code for the email's language, such as en (English), de (German) etc. You can access the list of language codes from the following link.\n",
        "# Type: The nature of the request, categorized as Incident, Request, Problem, or Change\n",
        "# Return your response as a JSON object with the following structure:\n",
        "#    {\n",
        "#        \"Department\": \"...\",\n",
        "#        \"Priority\": \"...\",\n",
        "#        \"Language\": \"...\",\n",
        "#        \"Type\": \"...\"\n",
        "#    }\n",
        "# Convert the JSON object into output.csv with columns \"ticket_ID\",\"department\",\"type\",\"priority\",\"language\"\n",
        "\n",
        "import json\n",
        "import pandas as pd\n",
        "\n",
        "# Process results and create a list of dictionaries\n",
        "processed_results = []\n",
        "for index, result in enumerate(results):\n",
        "    try:\n",
        "        json_data = json.loads(result)\n",
        "        processed_results.append({\n",
        "            \"ticket_ID\": df.iloc[index]['ticket_ID'],  # Assuming 'ticket_ID' exists\n",
        "            \"department\": json_data.get(\"Department\", \"\"),\n",
        "            \"type\": json_data.get(\"Type\", \"\"),\n",
        "            \"priority\": json_data.get(\"Priority\", \"\"),\n",
        "            \"language\": json_data.get(\"Language\", \"\")\n",
        "        })\n",
        "    except json.JSONDecodeError as e:\n",
        "        print(f\"Error decoding JSON for result {index + 1}: {e}\")\n",
        "        print(f\"Problematic Result: {result}\")  # Print problematic result for debugging\n",
        "        processed_results.append({\n",
        "            \"ticket_ID\": df.iloc[index]['ticket_ID'],\n",
        "            \"department\": \"\",\n",
        "            \"type\": \"\",\n",
        "            \"priority\": \"\",\n",
        "            \"language\": \"\"\n",
        "        })\n",
        "\n",
        "\n",
        "# Create a DataFrame from the processed results\n",
        "output_df = pd.DataFrame(processed_results)\n",
        "\n",
        "# Save the DataFrame to a CSV file\n",
        "output_df.to_csv(\"output.csv\", index=False)"
      ],
      "metadata": {
        "id": "rPbWPcoLV_7X",
        "outputId": "7100c778-2901-44d4-beb3-1d93ce1bcf94",
        "colab": {
          "base_uri": "https://localhost:8080/",
          "height": 211
        }
      },
      "execution_count": 9,
      "outputs": [
        {
          "output_type": "error",
          "ename": "NameError",
          "evalue": "name 'results' is not defined",
          "traceback": [
            "\u001b[0;31m---------------------------------------------------------------------------\u001b[0m",
            "\u001b[0;31mNameError\u001b[0m                                 Traceback (most recent call last)",
            "\u001b[0;32m<ipython-input-9-5f006e01b480>\u001b[0m in \u001b[0;36m<cell line: 0>\u001b[0;34m()\u001b[0m\n\u001b[1;32m     23\u001b[0m     \u001b[0;32mtry\u001b[0m\u001b[0;34m:\u001b[0m\u001b[0;34m\u001b[0m\u001b[0;34m\u001b[0m\u001b[0m\n\u001b[1;32m     24\u001b[0m         \u001b[0;31m# Attempt to parse the JSON response\u001b[0m\u001b[0;34m\u001b[0m\u001b[0;34m\u001b[0m\u001b[0m\n\u001b[0;32m---> 25\u001b[0;31m         \u001b[0mclassification\u001b[0m \u001b[0;34m=\u001b[0m \u001b[0mjson\u001b[0m\u001b[0;34m.\u001b[0m\u001b[0mloads\u001b[0m\u001b[0;34m(\u001b[0m\u001b[0mresults\u001b[0m\u001b[0;34m[\u001b[0m\u001b[0mindex\u001b[0m\u001b[0;34m]\u001b[0m\u001b[0;34m)\u001b[0m\u001b[0;34m\u001b[0m\u001b[0;34m\u001b[0m\u001b[0m\n\u001b[0m\u001b[1;32m     26\u001b[0m \u001b[0;34m\u001b[0m\u001b[0m\n\u001b[1;32m     27\u001b[0m         \u001b[0;31m# Extract values, handling potential KeyError gracefully\u001b[0m\u001b[0;34m\u001b[0m\u001b[0;34m\u001b[0m\u001b[0m\n",
            "\u001b[0;31mNameError\u001b[0m: name 'results' is not defined"
          ]
        }
      ]
    },
    {
      "cell_type": "code",
      "source": [
        "# prompt: 1.code to import \"/content/test.csv\"\n",
        "# 2.use model \"llama-3.3-70b-versatile\" from groq to classify emails from test.csv (read columns \"ticket_ID\", \"ticket_subject\" and \"ticket_body\" from each row in \"/content/test.csv\" into the following attributes\n",
        "# Department: The responsible department, such as Technical Support, Customer Service, Billing and Payments, Product Support, IT Support, Returns and Exchanges, Sales and Pre-Sales, Human Resources, Service Outages and Maintenance, or General Inquiry\n",
        "# Priority: The urgency level such as low, medium, or high.\n",
        "# Language: The language code for the email's language, such as en (English), de (German) etc. You can access the list of language codes from the following link.\n",
        "# Type: The nature of the request, categorized as Incident, Request, Problem, or Change\n",
        "# 3.Return your response as a JSON object with the following structure:\n",
        "#    {\n",
        "#        \"Department\": \"...\",\n",
        "#        \"Priority\": \"...\",\n",
        "#        \"Language\": \"...\",\n",
        "#        \"Type\": \"...\"\n",
        "#    }\n",
        "# 4.Convert the JSON object into output.csv with columns \"ticket_ID\",\"department\",\"type\",\"priority\",\"language\"\n",
        "\n",
        "import pandas as pd\n",
        "import json\n",
        "from groq import Groq\n",
        "\n",
        "# Install necessary libraries\n",
        "!pip install groq\n",
        "\n",
        "# Initialize the Groq client\n",
        "client = Groq(api_key=\"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\")\n",
        "\n",
        "try:\n",
        "    df = pd.read_csv(\"/content/test1.csv\") # Correct file name\n",
        "except FileNotFoundError:\n",
        "    print(\"Error: test.csv not found. Please upload the file to /content/\")\n",
        "    exit()\n",
        "\n",
        "results = []\n",
        "for index, row in df.iterrows():\n",
        "    ticket_id = row['ticket_ID']\n",
        "    subject = row['ticket_subject']\n",
        "    body = row['ticket_body']\n",
        "\n",
        "    prompt = f\"\"\"Classify the following email into the given attributes.\n",
        "\n",
        "Subject: {subject}\n",
        "Body: {body}\n",
        "\n",
        "Attributes:\n",
        "Department: The responsible department (Technical Support, Customer Service, Billing and Payments, Product Support, IT Support, Returns and Exchanges, Sales and Pre-Sales, Human Resources, Service Outages and Maintenance, or General Inquiry)\n",
        "Priority: The urgency level (low, medium, or high).\n",
        "Language: The language code (en, de, etc.).\n",
        "Type: The nature of the request (Incident, Request, Problem, or Change)\n",
        "\n",
        "Return your response as a JSON object with the keys \"Department\", \"Priority\", \"Language\", and \"Type\".\"\"\"\n",
        "\n",
        "    completion = client.chat.completions.create(\n",
        "        model=\"llama-3.3-70b-versatile\",\n",
        "        messages=[{\"role\": \"user\", \"content\": prompt}],\n",
        "        temperature=0.2,\n",
        "        max_completion_tokens=200,\n",
        "        top_p=1,\n",
        "        stream=False\n",
        "    )\n",
        "    response = completion.choices[0].message.content\n",
        "    #response_str = response.strip()\n",
        "    response_str = response.replace(\"```\",\"\")\n",
        "    response_str = response_str.replace(\"json\",\"\")\n",
        "    response_str = response_str.replace(\"\\n\",\"\")\n",
        "    results.append(response_str)\n",
        "\n",
        "processed_results = []\n",
        "for index, result in enumerate(results):\n",
        "    try:\n",
        "        json_data = json.loads(result)\n",
        "        processed_results.append({\n",
        "            \"ticket_ID\": df.iloc[index]['ticket_ID'],\n",
        "            \"department\": json_data.get(\"Department\", \"\"),\n",
        "            \"type\": json_data.get(\"Type\", \"\"),\n",
        "            \"priority\": json_data.get(\"Priority\", \"\"),\n",
        "            \"language\": json_data.get(\"Language\", \"\")\n",
        "        })\n",
        "    except json.JSONDecodeError as e:\n",
        "        print(f\"Error decoding JSON for result {index + 1}: {e}\")\n",
        "        print(f\"Problematic Result: {result}\")\n",
        "        processed_results.append({\n",
        "            \"ticket_ID\": df.iloc[index]['ticket_ID'],\n",
        "            \"department\": \"\",\n",
        "            \"type\": \"\",\n",
        "            \"priority\": \"\",\n",
        "            \"language\": \"\"\n",
        "        })\n",
        "\n",
        "output_df = pd.DataFrame(processed_results)\n",
        "output_df.to_csv(\"output.csv\", index=False)"
      ],
      "metadata": {
        "id": "f2ihKavxaW7e",
        "outputId": "8493f43d-657a-4832-8e99-dcbaed6621ce",
        "colab": {
          "base_uri": "https://localhost:8080/"
        }
      },
      "execution_count": 17,
      "outputs": [
        {
          "output_type": "stream",
          "name": "stdout",
          "text": [
            "Requirement already satisfied: groq in /usr/local/lib/python3.11/dist-packages (0.15.0)\n",
            "Requirement already satisfied: anyio<5,>=3.5.0 in /usr/local/lib/python3.11/dist-packages (from groq) (3.7.1)\n",
            "Requirement already satisfied: distro<2,>=1.7.0 in /usr/local/lib/python3.11/dist-packages (from groq) (1.9.0)\n",
            "Requirement already satisfied: httpx<1,>=0.23.0 in /usr/local/lib/python3.11/dist-packages (from groq) (0.28.1)\n",
            "Requirement already satisfied: pydantic<3,>=1.9.0 in /usr/local/lib/python3.11/dist-packages (from groq) (2.10.5)\n",
            "Requirement already satisfied: sniffio in /usr/local/lib/python3.11/dist-packages (from groq) (1.3.1)\n",
            "Requirement already satisfied: typing-extensions<5,>=4.10 in /usr/local/lib/python3.11/dist-packages (from groq) (4.12.2)\n",
            "Requirement already satisfied: idna>=2.8 in /usr/local/lib/python3.11/dist-packages (from anyio<5,>=3.5.0->groq) (3.10)\n",
            "Requirement already satisfied: certifi in /usr/local/lib/python3.11/dist-packages (from httpx<1,>=0.23.0->groq) (2024.12.14)\n",
            "Requirement already satisfied: httpcore==1.* in /usr/local/lib/python3.11/dist-packages (from httpx<1,>=0.23.0->groq) (1.0.7)\n",
            "Requirement already satisfied: h11<0.15,>=0.13 in /usr/local/lib/python3.11/dist-packages (from httpcore==1.*->httpx<1,>=0.23.0->groq) (0.14.0)\n",
            "Requirement already satisfied: annotated-types>=0.6.0 in /usr/local/lib/python3.11/dist-packages (from pydantic<3,>=1.9.0->groq) (0.7.0)\n",
            "Requirement already satisfied: pydantic-core==2.27.2 in /usr/local/lib/python3.11/dist-packages (from pydantic<3,>=1.9.0->groq) (2.27.2)\n"
          ]
        }
      ]
    }
  ]
}